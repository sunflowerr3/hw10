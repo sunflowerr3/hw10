{
  "metadata": {
    "language_info": {
      "codemirror_mode": {
        "name": "python",
        "version": 3
      },
      "file_extension": ".py",
      "mimetype": "text/x-python",
      "name": "python",
      "nbconvert_exporter": "python",
      "pygments_lexer": "ipython3",
      "version": "3.8"
    },
    "kernelspec": {
      "name": "python",
      "display_name": "Python (Pyodide)",
      "language": "python"
    }
  },
  "nbformat_minor": 4,
  "nbformat": 4,
  "cells": [
    {
      "cell_type": "code",
      "source": "#1. Провести дисперсионный анализ для определения того, есть ли различия среднего роста среди взрослых футболистов, хоккеистов и штангистов. \n#Даны значения роста в трех группах случайно выбранных спортсменов:\n#Футболисты: 173, 175, 180, 178, 177, 185, 183, 182.\n#Хоккеисты: 177, 179, 180, 188, 177, 172, 171, 184, 180.\n#Штангисты: 172, 173, 169, 177, 166, 180, 178, 177, 172, 166, 170.",
      "metadata": {
        "trusted": true
      },
      "execution_count": 1,
      "outputs": []
    },
    {
      "cell_type": "code",
      "source": "import numpy as np\nimport pandas as pd\nfrom scipy import stats\n\nFootballers=np.array([173, 175, 180, 178, 177, 185, 183, 182,])\nHockey_players=np.array([177, 179, 180, 188, 177, 172, 171, 184, 180])\nWeightlifters=np.array([172, 173, 169, 177, 166, 180, 178, 177, 172, 166, 170])",
      "metadata": {
        "trusted": true
      },
      "execution_count": 2,
      "outputs": []
    },
    {
      "cell_type": "code",
      "source": "#Сформулируем нулевую гипотезу:\n#Различий среднего роста среди взрослых спотрсменов не имеется.\n#H0:u1=u2=u3\n\n#Альтернативная гипотеза:\n#Имеются различия среднего роста среди взрослых спотрсменов.\n#H0:u1<>u2<>u3",
      "metadata": {
        "trusted": true
      },
      "execution_count": 3,
      "outputs": []
    },
    {
      "cell_type": "code",
      "source": "k=3\nn=28",
      "metadata": {
        "trusted": true
      },
      "execution_count": 4,
      "outputs": []
    },
    {
      "cell_type": "code",
      "source": "Footballers_mean=np.mean(Footballers)\nprint('Средний рост футболиста=%.5f' % (Footballers_mean))",
      "metadata": {
        "trusted": true
      },
      "execution_count": 5,
      "outputs": [
        {
          "name": "stdout",
          "text": "Средний рост футболиста=179.12500\n",
          "output_type": "stream"
        }
      ]
    },
    {
      "cell_type": "code",
      "source": "Hockey_players_mean=np.mean(Hockey_players)\nprint('Средний рост хоккеиста=%.5f' % (Hockey_players_mean))",
      "metadata": {
        "trusted": true
      },
      "execution_count": 6,
      "outputs": [
        {
          "name": "stdout",
          "text": "Средний рост хоккеиста=178.66667\n",
          "output_type": "stream"
        }
      ]
    },
    {
      "cell_type": "code",
      "source": "Weightlifters_mean=np.mean(Weightlifters)\nprint('Средний рост штангиста=%.5f' % (Weightlifters_mean))",
      "metadata": {
        "trusted": true
      },
      "execution_count": 7,
      "outputs": [
        {
          "name": "stdout",
          "text": "Средний рост штангиста=172.72727\n",
          "output_type": "stream"
        }
      ]
    },
    {
      "cell_type": "code",
      "source": "S_f=np.sum((Footballers_mean-149.727)**2)*8+np.sum((Hockey_players_mean-149.727)**2)*9+np.sum((Weightlifters_mean-149.727)**2)*11\nprint('Сумма квадратов отклонений средних групповых значений от общего среднего=%.5f' % (S_f))",
      "metadata": {
        "trusted": true
      },
      "execution_count": 8,
      "outputs": [
        {
          "name": "stdout",
          "text": "Сумма квадратов отклонений средних групповых значений от общего среднего=20270.61599\n",
          "output_type": "stream"
        }
      ]
    },
    {
      "cell_type": "code",
      "source": "S_ost=np.sum((Footballers-Footballers_mean)**2)+np.sum((Hockey_players-Hockey_players_mean)**2)+np.sum((Weightlifters-Weightlifters_mean)**2)\nprint('Остаточная сумма квадратов отклонений=%.5f' % (S_ost))",
      "metadata": {
        "trusted": true
      },
      "execution_count": 9,
      "outputs": [
        {
          "name": "stdout",
          "text": "Остаточная сумма квадратов отклонений=577.05682\n",
          "output_type": "stream"
        }
      ]
    },
    {
      "cell_type": "code",
      "source": "S_f+S_ost",
      "metadata": {
        "trusted": true
      },
      "execution_count": 10,
      "outputs": [
        {
          "execution_count": 10,
          "output_type": "execute_result",
          "data": {
            "text/plain": "20847.672811999986"
          },
          "metadata": {}
        }
      ]
    },
    {
      "cell_type": "code",
      "source": "D_f=S_f/(k-1)\nprint('Факторная дисперсия=%.5f' % (D_f))",
      "metadata": {
        "trusted": true
      },
      "execution_count": 11,
      "outputs": [
        {
          "name": "stdout",
          "text": "Факторная дисперсия=10135.30800\n",
          "output_type": "stream"
        }
      ]
    },
    {
      "cell_type": "code",
      "source": "D_ost=S_ost/(n-k)\nprint('Остаточная дисперсия=%.5f' % (D_ost))",
      "metadata": {
        "trusted": true
      },
      "execution_count": 12,
      "outputs": [
        {
          "name": "stdout",
          "text": "Остаточная дисперсия=23.08227\n",
          "output_type": "stream"
        }
      ]
    },
    {
      "cell_type": "code",
      "source": "F_n=D_f/D_ost\nprint('Наблюдаемый критерий Фишера=%.5f' % (F_n))",
      "metadata": {
        "trusted": true
      },
      "execution_count": 13,
      "outputs": [
        {
          "name": "stdout",
          "text": "Наблюдаемый критерий Фишера=439.09489\n",
          "output_type": "stream"
        }
      ]
    },
    {
      "cell_type": "code",
      "source": "#Однофакторный дисперсионный анализ\nf=stats.f_oneway(Footballers, Hockey_players, Weightlifters)\n\nstat, p = stats.f_oneway(Footballers, Hockey_players, Weightlifters)\nprint('Statistics=%.5f, p-value=%.5f' % (stat, p))\n\nalpha = 0.05\nif p > alpha:\n    print('Различий среднего роста среди взрослых спотрсменов не имеется')\nelse:\n    print('Имеются различия среднего роста среди взрослых спотрсменов')",
      "metadata": {
        "trusted": true
      },
      "execution_count": 14,
      "outputs": [
        {
          "name": "stdout",
          "text": "Statistics=5.50005, p-value=0.01048\nИмеются различия среднего роста среди взрослых спотрсменов\n",
          "output_type": "stream"
        }
      ]
    },
    {
      "cell_type": "code",
      "source": "print('Statistics=%.5f, p-value=%.5f' % (stat, p))\n\nalpha = 0.01\nif p > alpha:\n    print('Различий среднего роста среди взрослых спотрсменов не имеется')\nelse:\n    print('Имеются различия среднего роста среди взрослых спотрсменов')",
      "metadata": {
        "trusted": true
      },
      "execution_count": 15,
      "outputs": [
        {
          "name": "stdout",
          "text": "Statistics=5.50005, p-value=0.01048\nРазличий среднего роста среди взрослых спотрсменов не имеется\n",
          "output_type": "stream"
        }
      ]
    },
    {
      "cell_type": "code",
      "source": "#На уровне статистической значимости a=0.05 p-value=0.01048 => отвергаем нулевую гипотезу. \n#Т.е. Имеются различия среднего роста среди взрослых спотрсменов.\n#При этом на уровне значимости a=0.01 нулевую гипотезу отвергнуть нельзя.",
      "metadata": {
        "trusted": true
      },
      "execution_count": 16,
      "outputs": []
    },
    {
      "cell_type": "code",
      "source": "",
      "metadata": {},
      "execution_count": null,
      "outputs": []
    }
  ]
}
